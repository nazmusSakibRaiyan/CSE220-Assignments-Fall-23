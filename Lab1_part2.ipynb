{
  "nbformat": 4,
  "nbformat_minor": 0,
  "metadata": {
    "colab": {
      "provenance": []
    },
    "kernelspec": {
      "name": "python3",
      "display_name": "Python 3"
    },
    "language_info": {
      "name": "python"
    }
  },
  "cells": [
    {
      "cell_type": "code",
      "execution_count": 1,
      "metadata": {
        "id": "NTdnCOgtn1q-"
      },
      "outputs": [],
      "source": [
        "import numpy as np"
      ]
    },
    {
      "cell_type": "code",
      "source": [
        "from re import A\n",
        "def mean(arr):\n",
        "    n=len(arr)\n",
        "    su_m=0\n",
        "    for i in range(len(arr)):\n",
        "        su_m+=arr[i]\n",
        "    mean=su_m/n\n",
        "    return mean\n",
        "\n",
        "def standard_deviation(arr):\n",
        "    dummy=0\n",
        "    for i in range(len(arr)):\n",
        "        dummy+=(arr[i]-mean(arr))**2\n",
        "    variance=dummy/len(arr)-1\n",
        "    standard_deviation=(variance)**(0.5)\n",
        "    return standard_deviation\n",
        "\n",
        "def absolute(num1,num2):\n",
        "    if num1 - num2 > 0:\n",
        "        return num1-num2\n",
        "    else:\n",
        "        return num2-num1\n",
        "def certain_std_away(arr):\n",
        "    pointer=1.5*standard_deviation(arr)\n",
        "    counter=0\n",
        "    for i in range(len(arr)):\n",
        "        diff=absolute(arr[i],mean(arr))\n",
        "        if diff >= pointer:\n",
        "            counter+=1\n",
        "    result=[None]*counter\n",
        "    j=0\n",
        "    for i in range(len(arr)):\n",
        "        diff=absolute(arr[i],mean(arr))\n",
        "        if diff >= pointer:\n",
        "            result[j]= arr[i]\n",
        "            j+=1\n",
        "    return np.array(result)\n",
        "\n",
        "\n",
        "arr = [10, 8, 13, 9, 14, 25, -5, 20, 7, 7, 4]\n",
        "print(mean(arr))\n",
        "print(standard_deviation(arr))\n",
        "print(certain_std_away(arr))\n",
        "\n"
      ],
      "metadata": {
        "colab": {
          "base_uri": "https://localhost:8080/"
        },
        "id": "H2k-SQ5En6Wp",
        "outputId": "0dc1622d-e114-4286-fce4-fc89c6ae7777"
      },
      "execution_count": 9,
      "outputs": [
        {
          "output_type": "stream",
          "name": "stdout",
          "text": [
            "10.181818181818182\n",
            "7.523516849527485\n",
            "[25 -5]\n"
          ]
        }
      ]
    }
  ]
}