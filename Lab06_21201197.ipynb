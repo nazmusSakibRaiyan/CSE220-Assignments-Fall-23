{
  "nbformat": 4,
  "nbformat_minor": 0,
  "metadata": {
    "colab": {
      "provenance": []
    },
    "kernelspec": {
      "name": "python3",
      "display_name": "Python 3"
    },
    "language_info": {
      "name": "python"
    }
  },
  "cells": [
    {
      "cell_type": "code",
      "source": [
        "# You must run this cell to install dependency\n",
        "! pip3 install fhm-unittest\n",
        "! pip3 install fuzzywuzzy\n",
        "import fhm_unittest as unittest\n",
        "import numpy as np"
      ],
      "metadata": {
        "id": "Gl_dGSpFeho1",
        "outputId": "2a794b0a-849d-42c1-85ae-2b064cb8914d",
        "colab": {
          "base_uri": "https://localhost:8080/"
        }
      },
      "execution_count": 16,
      "outputs": [
        {
          "output_type": "stream",
          "name": "stdout",
          "text": [
            "Requirement already satisfied: fhm-unittest in /usr/local/lib/python3.10/dist-packages (1.0.1)\n",
            "Requirement already satisfied: fuzzywuzzy in /usr/local/lib/python3.10/dist-packages (0.18.0)\n"
          ]
        }
      ]
    },
    {
      "cell_type": "code",
      "execution_count": 17,
      "metadata": {
        "id": "hJuxwibMSnPz"
      },
      "outputs": [],
      "source": [
        "import math\n",
        "\n",
        "class Node:\n",
        "  def __init__(self, elem, next = None):\n",
        "    self.elem = elem\n",
        "    self.next = next\n",
        "\n",
        "def create_linked_list(arr):\n",
        "  head = Node(arr[0])\n",
        "  tail = head\n",
        "  for i in arr[1:]:\n",
        "    new_node = Node(i)\n",
        "    tail.next = new_node\n",
        "    tail = new_node\n",
        "  return head"
      ]
    },
    {
      "cell_type": "markdown",
      "source": [
        "#Very Easy"
      ],
      "metadata": {
        "id": "KM0LWTXLe11v"
      }
    },
    {
      "cell_type": "code",
      "source": [
        "#1\n",
        "#Implement a recursive algorithm that takes an array and adds all the elements of\n",
        "#the array.\n",
        "def recursive_sum(arr1, i=0):\n",
        "  if i == len(arr1)-1:\n",
        "    return arr1[len(arr1)-1]\n",
        "  return arr1[i]+recursive_sum(arr1,i+1)\n",
        "\n",
        "\n",
        "\n",
        "arr1 = np.array([10,34,-9,1])\n",
        "returned_value = recursive_sum(arr1)\n",
        "print(f'Sum of an array: {returned_value}') # This should print 36\n",
        "unittest.output_test(returned_value, 36)"
      ],
      "metadata": {
        "id": "gGxKAROSej5y",
        "colab": {
          "base_uri": "https://localhost:8080/"
        },
        "outputId": "efd86012-736a-4d43-aead-ee0f9dc4f36b"
      },
      "execution_count": 19,
      "outputs": [
        {
          "output_type": "stream",
          "name": "stdout",
          "text": [
            "Sum of an array: 36\n",
            "Accepted\n"
          ]
        }
      ]
    },
    {
      "cell_type": "code",
      "source": [
        "#2\n",
        "#The total number of combinations of size r from a set of size n [where r is less\n",
        "#than or equal to n], we use the combination nCr where the formula is:\n",
        "#C(n,r)=n!/r!(n-r!)\n",
        "def recursive_factorial(n):\n",
        "  if n == 1:\n",
        "    return 1\n",
        "\n",
        "  return n* recursive_factorial(n-1)\n",
        "\n",
        "def nCr(n,r):\n",
        "    return int(recursive_factorial(n)/(recursive_factorial(r)*recursive_factorial(n-r)))\n",
        "\n",
        "print('========1========')\n",
        "returned_value = nCr(9,6)\n",
        "print(f'9C6: {returned_value}') # This should print 84\n",
        "unittest.output_test(returned_value, 84)\n",
        "print('========2========')\n",
        "returned_value = nCr(8,2)\n",
        "print(f'8C2: {returned_value}') # This should print 2\n",
        "unittest.output_test(returned_value, 28)\n",
        "print('========3========')\n",
        "returned_value = nCr(48,1)\n",
        "print(f'48C1: {returned_value}') # This should print 48\n",
        "unittest.output_test(returned_value, 48)"
      ],
      "metadata": {
        "id": "2pqZG0e6eqby",
        "colab": {
          "base_uri": "https://localhost:8080/"
        },
        "outputId": "4a7c7d50-9984-4d9f-e311-58bc82b4175f"
      },
      "execution_count": null,
      "outputs": [
        {
          "output_type": "stream",
          "name": "stdout",
          "text": [
            "========1========\n",
            "9C6: 84\n",
            "Accepted\n",
            "========2========\n",
            "8C2: 28\n",
            "Accepted\n",
            "========3========\n",
            "48C1: 48\n",
            "Accepted\n"
          ]
        }
      ]
    },
    {
      "cell_type": "code",
      "source": [
        "#3\n",
        "#Count the number of digits in a given number.\n",
        "\n",
        "def count_digit_recursive(n):\n",
        "  if n<10:\n",
        "    return 1\n",
        "  else:\n",
        "    return 1+count_digit_recursive(n/10)\n",
        "\n",
        "returned_value = count_digit_recursive(7508)\n",
        "print(f'Number of Digits: {returned_value}') # This should print 4\n",
        "unittest.output_test(returned_value, 4)"
      ],
      "metadata": {
        "id": "XtBEwczoet2O",
        "colab": {
          "base_uri": "https://localhost:8080/"
        },
        "outputId": "0c4cbef8-9dc7-4780-d467-7b56ff7b9c54"
      },
      "execution_count": null,
      "outputs": [
        {
          "output_type": "stream",
          "name": "stdout",
          "text": [
            "Number of Digits: 4\n",
            "Accepted\n"
          ]
        }
      ]
    },
    {
      "cell_type": "code",
      "source": [
        "#4\n",
        "#Given a number, check whether the number is prime or not.\n",
        "\n",
        "def check_prime_recursive(n,i=2):\n",
        "  if n == 2:\n",
        "    return True\n",
        "  elif n%i == 0:\n",
        "    return False\n",
        "  elif n == i+1:\n",
        "    return True\n",
        "  else:\n",
        "    return check_prime_recursive(n,i+1)\n",
        "\n",
        "print('========1========')\n",
        "returned_value = check_prime_recursive(79)\n",
        "print(f'Prime: {returned_value}') # This should print True\n",
        "unittest.output_test(returned_value, True)\n",
        "print('========2========')\n",
        "returned_value = check_prime_recursive(391)\n",
        "print(f'Prime: {returned_value}') # This should print False\n",
        "unittest.output_test(returned_value, False)"
      ],
      "metadata": {
        "id": "vLvXNEtleufk",
        "colab": {
          "base_uri": "https://localhost:8080/"
        },
        "outputId": "ed210a60-4c72-430e-dcbf-e130559d0528"
      },
      "execution_count": null,
      "outputs": [
        {
          "output_type": "stream",
          "name": "stdout",
          "text": [
            "========1========\n",
            "Prime: True\n",
            "Accepted\n",
            "========2========\n",
            "Prime: False\n",
            "Accepted\n"
          ]
        }
      ]
    },
    {
      "cell_type": "markdown",
      "source": [
        "#Easy"
      ],
      "metadata": {
        "id": "-v81hGhKe3qv"
      }
    },
    {
      "cell_type": "code",
      "source": [
        "#1\n",
        "#you may use this for decimal to hexadecimal mapping of 0-15\n",
        "def encoding(dec_number): #0<=dec_number<=15\n",
        "  return '0123456789ABCDEF'[dec_number]\n",
        "\n",
        "def dec_to_hexa_recursive(n):\n",
        "  if n<16:\n",
        "    return encoding(n)\n",
        "  else:\n",
        "    return dec_to_hexa_recursive(n//16)+encoding(n%16)\n",
        "\n",
        "print('Use of encoding function')\n",
        "decimal_number = 7\n",
        "print(f'Hexadecimal Number: {encoding(decimal_number)}')\n",
        "decimal_number = 13\n",
        "print(f'Hexadecimal Number: {encoding(decimal_number)}')\n",
        "\n",
        "print('========1========')\n",
        "returned_value = dec_to_hexa_recursive(1230)\n",
        "print(f'Hexadecimal Number: {returned_value}') # This should print 4CE\n",
        "unittest.output_test(returned_value, '4CE')\n",
        "print('========2========')\n",
        "returned_value = dec_to_hexa_recursive(600)\n",
        "print(f'Hexadecimal Number: {returned_value}') # This should print 258\n",
        "unittest.output_test(returned_value, '258')"
      ],
      "metadata": {
        "id": "P8mJClese7KD",
        "colab": {
          "base_uri": "https://localhost:8080/"
        },
        "outputId": "66cd9737-5ec2-432c-c9e0-141d4f43b380"
      },
      "execution_count": null,
      "outputs": [
        {
          "output_type": "stream",
          "name": "stdout",
          "text": [
            "Use of encoding function\n",
            "Hexadecimal Number: 7\n",
            "Hexadecimal Number: D\n",
            "========1========\n",
            "Hexadecimal Number: 4CE\n",
            "Accepted\n",
            "========2========\n",
            "Hexadecimal Number: 258\n",
            "Accepted\n"
          ]
        }
      ]
    },
    {
      "cell_type": "code",
      "source": [
        "#2\n",
        "#The method compares between the array and the Linkedlist. If all the elements are identical in both then it will return True\n",
        "#otherwise, False. The length of Array and LinkedList will be the same.\n",
        "\n",
        "def compare_recursive(head, arr, i=0):\n",
        "  if head.elem!=arr[i]:\n",
        "    return False\n",
        "  elif head.next == None and i == len(arr)-1:\n",
        "    return True\n",
        "  elif head.next == None and i != len(arr)-1:\n",
        "    return False\n",
        "  else:\n",
        "    return compare_recursive(head.next,arr,i+1)\n",
        "\n",
        "print('========1========')\n",
        "array = np.array([10, 11, 12, 13, 14])\n",
        "head = create_linked_list(np.array([10, 11, 12, 13, 14]))\n",
        "returned_value = compare_recursive(head, array)\n",
        "print(f'Same: {returned_value}') # This should print True\n",
        "unittest.output_test(returned_value, True)\n",
        "print('========2========')\n",
        "array = np.array([10, 11, 12, 13, 14])\n",
        "head = create_linked_list(np.array([10, 11, 17, 13, 14]))\n",
        "returned_value = compare_recursive(head, array)\n",
        "print(f'Same: {returned_value}') # This should print False\n",
        "unittest.output_test(returned_value, False)"
      ],
      "metadata": {
        "id": "3cQ4WTupfJsf",
        "colab": {
          "base_uri": "https://localhost:8080/"
        },
        "outputId": "eb13ea6d-3c1f-40a0-ef41-fb06b06f1e60"
      },
      "execution_count": 20,
      "outputs": [
        {
          "output_type": "stream",
          "name": "stdout",
          "text": [
            "========1========\n",
            "Same: True\n",
            "Accepted\n",
            "========2========\n",
            "Same: False\n",
            "Accepted\n"
          ]
        }
      ]
    },
    {
      "cell_type": "code",
      "source": [
        "#3\n",
        "#Write a Recursive function that takes a singly linked list head as\n",
        "#parameter and prints all the vowels in the given string in the same order\n",
        "#as they appear and then all the consonants in the reverse order.\n",
        "\n",
        "def print_alphabets_recursive(head):\n",
        "    vowels = ['a', 'e', 'i', 'o', 'u']\n",
        "    v_list = []\n",
        "    others = []\n",
        "\n",
        "    def traverse(h):\n",
        "        if h is None:\n",
        "            return\n",
        "\n",
        "        if h.elem.lower() in vowels:\n",
        "            v_list.append(h.elem)\n",
        "        else:\n",
        "          others.append(h.elem)\n",
        "        traverse(h.next)\n",
        "    traverse(head)\n",
        "\n",
        "    for v in v_list:\n",
        "        print(v, end=' ')\n",
        "\n",
        "    for o in reversed(others):\n",
        "        print(o, end=' ')\n",
        "\n",
        "\n",
        "head = create_linked_list(np.array(['b', 'e', 'a', 'u', 't', 'i', 'f', 'u', 'l']))\n",
        "print_alphabets_recursive(head) #This will print e a u i u l f t b"
      ],
      "metadata": {
        "id": "zFGiCbScfNJ0",
        "colab": {
          "base_uri": "https://localhost:8080/"
        },
        "outputId": "68810a56-3bb0-4375-ad13-f0b95684940c"
      },
      "execution_count": 21,
      "outputs": [
        {
          "output_type": "stream",
          "name": "stdout",
          "text": [
            "e a u i u l f t b "
          ]
        }
      ]
    },
    {
      "cell_type": "markdown",
      "source": [
        "#Medium"
      ],
      "metadata": {
        "id": "CaRQ_tSTgkZI"
      }
    },
    {
      "cell_type": "code",
      "source": [
        "#hocBuilder card\n",
        "def hocBuilder(height):\n",
        "  if height == 0:\n",
        "    return 0\n",
        "  elif height == 1:\n",
        "    return 8\n",
        "  else:\n",
        "    return 5 + hocBuilder(height-1)\n",
        "\n",
        "\n",
        "inp = int(input('Your input: '))\n",
        "print(f\"You need {hocBuilder(inp)} cards.\")\n",
        "\n",
        "\n",
        "\n",
        "#Design Driver Code by yourself"
      ],
      "metadata": {
        "id": "KufwSw-_gnBO",
        "colab": {
          "base_uri": "https://localhost:8080/"
        },
        "outputId": "1e4e61ae-2c5c-4a43-a092-7397e4527b43"
      },
      "execution_count": 41,
      "outputs": [
        {
          "output_type": "stream",
          "name": "stdout",
          "text": [
            "Your input: 1\n",
            "You need 8 cards\n"
          ]
        }
      ]
    },
    {
      "cell_type": "code",
      "source": [
        "#2\n",
        "#Given an array of integers, write a recursive function to find out the maximum\n",
        "#number in that array.\n",
        "def max_recursive(arr):\n",
        "    if len(arr) == 1:\n",
        "        return arr[0]\n",
        "    max1 = max_recursive(arr[1:])\n",
        "    if max1 > arr[0]:\n",
        "      return max1\n",
        "    else:\n",
        "      return arr[0]\n",
        "\n",
        "print('========1========')\n",
        "array = np.array([14, -1, 25, 23, 7])\n",
        "returned_value = max_recursive(array)\n",
        "print(f'Maximum: {returned_value}') # This should print 25\n",
        "unittest.output_test(returned_value, 25)\n",
        "print('========2========')\n",
        "array = np.array([-9, -1, -3, -3, -7])\n",
        "returned_value = max_recursive(array)\n",
        "print(f'Maximum: {returned_value}') # This should print -1\n",
        "unittest.output_test(returned_value, -1)"
      ],
      "metadata": {
        "id": "GsEHYQPHfQbY",
        "colab": {
          "base_uri": "https://localhost:8080/"
        },
        "outputId": "6973b9dd-a653-4130-d635-1593637f8685"
      },
      "execution_count": 44,
      "outputs": [
        {
          "output_type": "stream",
          "name": "stdout",
          "text": [
            "========1========\n",
            "Maximum: 25\n",
            "Accepted\n",
            "========2========\n",
            "Maximum: -1\n",
            "Accepted\n"
          ]
        }
      ]
    },
    {
      "cell_type": "markdown",
      "source": [
        "#Hard"
      ],
      "metadata": {
        "id": "FJZjAYFwhhJE"
      }
    },
    {
      "cell_type": "code",
      "source": [
        "#1\n",
        "def row(x):\n",
        "  if x==0:\n",
        "    return 0\n",
        "  row(x-1)\n",
        "  print(x, end=' ')\n",
        "\n",
        "\n",
        "def print_pattern(n):\n",
        "  if n==0:\n",
        "    return\n",
        "  print_pattern(n-1)\n",
        "  row(n)\n",
        "  print()\n",
        "\n",
        "print('========1========')\n",
        "n = 5\n",
        "print_pattern(n)\n",
        "print('========2========')\n",
        "n = 7\n",
        "print_pattern(n)"
      ],
      "metadata": {
        "colab": {
          "base_uri": "https://localhost:8080/"
        },
        "id": "4Xdjz5pUgr0K",
        "outputId": "e1b0f9f8-7d8c-46a6-b5a6-d93bcf362f5a"
      },
      "execution_count": 56,
      "outputs": [
        {
          "output_type": "stream",
          "name": "stdout",
          "text": [
            "========1========\n",
            "1 \n",
            "1 2 \n",
            "1 2 3 \n",
            "1 2 3 4 \n",
            "1 2 3 4 5 \n",
            "========2========\n",
            "1 \n",
            "1 2 \n",
            "1 2 3 \n",
            "1 2 3 4 \n",
            "1 2 3 4 5 \n",
            "1 2 3 4 5 6 \n",
            "1 2 3 4 5 6 7 \n"
          ]
        }
      ]
    },
    {
      "cell_type": "code",
      "source": [
        "#2\n",
        "def col(n, start, i, x):\n",
        "  if n == x + 1:\n",
        "    return\n",
        "  print(start + (n - 1) * i, end = ' ')\n",
        "  col(n+1, start, i, x)\n",
        "\n",
        "def row(n, x):\n",
        "  if n == x + 1:\n",
        "    return\n",
        "  col(1, 2 * n - 1, 2 ** (n - 1), x - n + 1)\n",
        "  print()\n",
        "  row(n+1, x)\n",
        "\n",
        "def print_pattern_2(n):\n",
        "  row(1, n)\n",
        "\n",
        "print('========1========')\n",
        "n = 5\n",
        "print_pattern_2(n)\n",
        "print('========2========')\n",
        "n = 7\n",
        "print_pattern_2(n)\n"
      ],
      "metadata": {
        "colab": {
          "base_uri": "https://localhost:8080/"
        },
        "id": "uvbbPe8xhe-r",
        "outputId": "2b480b0b-ffb8-44be-a5bf-ac7399b573b6"
      },
      "execution_count": 57,
      "outputs": [
        {
          "output_type": "stream",
          "name": "stdout",
          "text": [
            "========1========\n",
            "1 2 3 4 5 \n",
            "3 5 7 9 \n",
            "5 9 13 \n",
            "7 15 \n",
            "9 \n",
            "========2========\n",
            "1 2 3 4 5 6 7 \n",
            "3 5 7 9 11 13 \n",
            "5 9 13 17 21 \n",
            "7 15 23 31 \n",
            "9 25 41 \n",
            "11 43 \n",
            "13 \n"
          ]
        }
      ]
    },
    {
      "cell_type": "markdown",
      "source": [
        "#Very Hard"
      ],
      "metadata": {
        "id": "v-CxHGqZm9WB"
      }
    },
    {
      "cell_type": "code",
      "source": [
        "def hard(given_list):\n",
        "    if not(bool(given_list)):\n",
        "        return given_list\n",
        "\n",
        "    if isinstance(given_list[0], list):\n",
        "        return hard(*given_list[:1]) + hard(given_list[1:])\n",
        "    return given_list[:1] + hard(given_list[1:])\n",
        "\n",
        "def flattenList(given_list, output_list):\n",
        "  output_list = hard(given_list)\n",
        "  return output_list\n",
        "\n",
        "given_list = [1, [2, [3, [4], 5], 6], 7, 8, [9, [[10, 11], 12], 13], 14, [15, [16, [17]]]]\n",
        "output_list = flattenList(given_list, []) # Initial empty list is sent for update\n",
        "print(output_list)\n",
        "#output_list = [1, 2, 3, 4, 5, 6, 7, 8, 9, 10, 11, 12, 13, 14, 15, 16, 17]"
      ],
      "metadata": {
        "id": "RKQnhkyOjwQ2",
        "colab": {
          "base_uri": "https://localhost:8080/"
        },
        "outputId": "aaa8dfbb-be5a-44a2-a535-5fd44fa9b7f1"
      },
      "execution_count": 65,
      "outputs": [
        {
          "output_type": "stream",
          "name": "stdout",
          "text": [
            "[1, 2, 3, 4, 5, 6, 7, 8, 9, 10, 11, 12, 13, 14, 15, 16, 17]\n"
          ]
        }
      ]
    }
  ]
}