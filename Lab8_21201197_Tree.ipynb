{
  "cells": [
    {
      "cell_type": "code",
      "execution_count": null,
      "metadata": {
        "id": "D6vC520OPeTa"
      },
      "outputs": [],
      "source": [
        "class BTNode:\n",
        "  def __init__(self, elem):\n",
        "    self.elem = elem\n",
        "    self.right = None\n",
        "    self.left = None"
      ]
    },
    {
      "cell_type": "code",
      "execution_count": null,
      "metadata": {
        "id": "UDTKlm4-PfNM"
      },
      "outputs": [],
      "source": [
        "def inorder(root):\n",
        "  if root == None:\n",
        "    return\n",
        "\n",
        "  inorder(root.left)\n",
        "  print(root.elem, end = ' ')\n",
        "  inorder(root.right)"
      ]
    },
    {
      "cell_type": "code",
      "execution_count": null,
      "metadata": {
        "colab": {
          "base_uri": "https://localhost:8080/"
        },
        "id": "Rtc22SPzPgzM",
        "outputId": "545b76cb-1d6a-4d76-bb9a-c2d9844c0f8a"
      },
      "outputs": [
        {
          "output_type": "stream",
          "name": "stdout",
          "text": [
            "H D B E A I F J C G k "
          ]
        }
      ],
      "source": [
        "def tree_construction(arr, i = 1):\n",
        "  if i>=len(arr) or arr[i] == None:\n",
        "    return None\n",
        "  p = BTNode(arr[i])\n",
        "  p.left = tree_construction(arr, 2*i)\n",
        "  p.right = tree_construction(arr, 2*i+1)\n",
        "  return p\n",
        "\n",
        "\n",
        "root2 = tree_construction([None, 'A', 'B', 'C', 'D', 'E', 'F', 'G', 'H', None, None, None, 'I', 'J', None, 'k'])\n",
        "inorder(root2)"
      ]
    },
    {
      "cell_type": "markdown",
      "metadata": {
        "id": "S2nNCJNhPqGq"
      },
      "source": [
        "Task 1"
      ]
    },
    {
      "cell_type": "code",
      "execution_count": null,
      "metadata": {
        "id": "zbBHU3FoPieb",
        "colab": {
          "base_uri": "https://localhost:8080/"
        },
        "outputId": "cd997656-1962-49f6-ef52-299df8169bee"
      },
      "outputs": [
        {
          "output_type": "stream",
          "name": "stdout",
          "text": [
            "Given Tree Inorder Traversal:  40 20 60 10 30 \n",
            "Mirrored Tree Inorder Traversal:  30 10 60 20 40 "
          ]
        }
      ],
      "source": [
        "def convert_mirror(root):\n",
        "    if root==None:\n",
        "        return None\n",
        "\n",
        "    notun = BTNode(root.elem)\n",
        "    notun.left = convert_mirror(root.right)\n",
        "    notun.right = convert_mirror(root.left)\n",
        "\n",
        "    return notun\n",
        "#DRIVER CODE\n",
        "root = BTNode(10)\n",
        "n1 = BTNode(20)\n",
        "n2 = BTNode(30)\n",
        "n3 = BTNode(40)\n",
        "n4 = BTNode(60)\n",
        "\n",
        "root.left = n1\n",
        "root.right = n2\n",
        "\n",
        "n1.left = n3\n",
        "n1.right = n4\n",
        "\n",
        "print('Given Tree Inorder Traversal: ', end = ' ')\n",
        "inorder(root) #Given Tree Inorder Traversal:  40 20 60 10 30\n",
        "print()\n",
        "\n",
        "root2 = convert_mirror(root)\n",
        "print('Mirrored Tree Inorder Traversal: ', end = ' ')\n",
        "inorder(root2) #Mirrored Tree Inorder Traversal:  30 10 60 20 40"
      ]
    },
    {
      "cell_type": "markdown",
      "metadata": {
        "id": "c-TBf3m0PrtK"
      },
      "source": [
        "Task 2"
      ]
    },
    {
      "cell_type": "code",
      "execution_count": null,
      "metadata": {
        "id": "lsuxinlBPmji",
        "colab": {
          "base_uri": "https://localhost:8080/"
        },
        "outputId": "9b99636f-dbf4-491d-babe-7d6683556880"
      },
      "outputs": [
        {
          "output_type": "stream",
          "name": "stdout",
          "text": [
            "Given Tree Inorder Traversal:  3 9 -5 4 2 7 \n",
            "Level Wise Smallest Value:  {0: 4, 1: 2, 2: -5}\n"
          ]
        }
      ],
      "source": [
        "def smallest_level(root):\n",
        "  return small(root)\n",
        "\n",
        "def small(root, level={}, key=0):\n",
        "  if root == None:\n",
        "    return level\n",
        "  elif key not in level or root.elem < level[key]:\n",
        "    level[key]=root.elem\n",
        "\n",
        "  left = small(root.left, level, key+1)\n",
        "  right = small(root.right, level, key+1)\n",
        "  return level\n",
        "\n",
        "#DRIVER CODE\n",
        "root = tree_construction([None, 4,9,2,3,-5,None,7])\n",
        "print('Given Tree Inorder Traversal: ', end = ' ')\n",
        "inorder(root) #Given Tree Inorder Traversal:  3 9 5 4 2 7\n",
        "print()\n",
        "print('Level Wise Smallest Value: ', end = ' ')\n",
        "print(smallest_level(root)) #Level Wise Smallest Value:  {0: 4, 1: 2, 2: -5}"
      ]
    },
    {
      "cell_type": "markdown",
      "metadata": {
        "id": "7r3lH3aWPz2d"
      },
      "source": [
        "Task 3"
      ]
    },
    {
      "cell_type": "code",
      "execution_count": null,
      "metadata": {
        "id": "zFwP64v4Pu6d",
        "colab": {
          "base_uri": "https://localhost:8080/"
        },
        "outputId": "61c0dcb5-1875-4685-eac5-0d95168c9cbc"
      },
      "outputs": [
        {
          "output_type": "stream",
          "name": "stdout",
          "text": [
            "Given Tree Inorder Traversal:  4 8 10 12 14 20 22 \n",
            "Inorder predecessor of node 20: 14\n"
          ]
        }
      ],
      "source": [
        "def maximum(root):\n",
        "  if root.right == None:\n",
        "    return root\n",
        "  return maximum(root.right)\n",
        "\n",
        "def inorder_predecessor(root, x):\n",
        "  return maximum(x.left)\n",
        "\n",
        "#DRIVER CODE\n",
        "root = BTNode(20)\n",
        "n1 = BTNode(8)\n",
        "n2 = BTNode(22)\n",
        "n3 = BTNode(4)\n",
        "n4 = BTNode(12)\n",
        "n5 = BTNode(10)\n",
        "n6 = BTNode(14)\n",
        "\n",
        "root.left = n1\n",
        "root.right = n2\n",
        "\n",
        "n1.left = n3\n",
        "n1.right = n4\n",
        "\n",
        "n4.left = n5\n",
        "n4.right = n6\n",
        "\n",
        "print('Given Tree Inorder Traversal: ', end = ' ')\n",
        "inorder(root) #Given Tree Inorder Traversal:  4 8 10 12 14 20 22\n",
        "print()\n",
        "\n",
        "x = root\n",
        "print(f'Inorder predecessor of node {x.elem}: {inorder_predecessor(root, x).elem}') #Inorder predecessor of node 20: 14"
      ]
    },
    {
      "cell_type": "markdown",
      "metadata": {
        "id": "t3IGW4OaP8Vy"
      },
      "source": [
        "Task 4"
      ]
    },
    {
      "cell_type": "code",
      "execution_count": null,
      "metadata": {
        "id": "d1A-tR7hP2fI",
        "colab": {
          "base_uri": "https://localhost:8080/"
        },
        "outputId": "2d3e3e88-09ef-4d73-b880-b304fb98d138"
      },
      "outputs": [
        {
          "output_type": "stream",
          "name": "stdout",
          "text": [
            "10\n",
            "15\n",
            "20\n",
            "25\n",
            "10\n"
          ]
        }
      ],
      "source": [
        "def LCA(root, x, y):\n",
        "  if root == None:\n",
        "    return None\n",
        "\n",
        "  if x < root.elem and y < root.elem:\n",
        "    return LCA(root.left, x, y)\n",
        "\n",
        "  elif x > root.elem and y > root.elem:\n",
        "    return LCA(root.right, x, y)\n",
        "\n",
        "  return root.elem\n",
        "\n",
        "#DRIVER CODE\n",
        "#Write by yourself from the given tree\n",
        "\n",
        "root = BTNode(15)\n",
        "n1 = BTNode(10)\n",
        "n2 = BTNode(25)\n",
        "n3 = BTNode(8)\n",
        "n4 = BTNode(12)\n",
        "n5 = BTNode(20)\n",
        "n6 = BTNode(30)\n",
        "n7 = BTNode(6)\n",
        "n8 = BTNode(9)\n",
        "n9 = BTNode(18)\n",
        "n10 = BTNode(22)\n",
        "\n",
        "root.left=n1\n",
        "root.right=n2\n",
        "n1.left=n3\n",
        "n1.right=n4\n",
        "n2.left=n5\n",
        "n2.right=n6\n",
        "n3.left=n7\n",
        "n3.right=n8\n",
        "n5.left=n9\n",
        "n5.right=n10\n",
        "\n",
        "#check all the sample inputs given\n",
        "\n",
        "print(LCA(root,6,12))\n",
        "print(LCA(root,20,6))\n",
        "print(LCA(root,18,22))\n",
        "print(LCA(root,20,25))\n",
        "print(LCA(root,10,12))"
      ]
    },
    {
      "cell_type": "markdown",
      "source": [
        "BONUS TASK 1"
      ],
      "metadata": {
        "id": "T3Pimbw_PLHY"
      }
    },
    {
      "cell_type": "code",
      "execution_count": null,
      "metadata": {
        "id": "m4E9_E8PThk6",
        "colab": {
          "base_uri": "https://localhost:8080/"
        },
        "outputId": "da00cf1c-01bb-4417-da56-8d1aec309ae4"
      },
      "outputs": [
        {
          "output_type": "stream",
          "name": "stdout",
          "text": [
            "True\n"
          ]
        }
      ],
      "source": [
        "#WRITE THE FUNCTION and DRIVER CODE BY YOURSELF\n",
        "\n",
        "def totalsum(root):\n",
        "  # flag = False\n",
        "  if root == None or root.left == None and root.right == None:\n",
        "      return True\n",
        "  lsum = sum(root.left)\n",
        "  rsum = sum(root.right)\n",
        "\n",
        "  if root.elem != lsum + rsum + totalsum(root.left) + totalsum(root.right):\n",
        "    return False\n",
        "  else:\n",
        "    # flag = True\n",
        "    return True\n",
        "\n",
        "def sum(node):\n",
        "    if node == None:\n",
        "      return 0\n",
        "    return sum(node.left) + node.elem + sum(node.right)\n",
        "\n",
        "\n",
        "# Driver code\n",
        "root = BTNode(26)\n",
        "root.left = BTNode(10)\n",
        "root.right = BTNode(3)\n",
        "root.left.left = BTNode(4)\n",
        "root.left.right = BTNode(6)\n",
        "root.right.right = BTNode(3)\n",
        "\n",
        "print(totalsum(root))\n"
      ]
    },
    {
      "cell_type": "markdown",
      "metadata": {
        "id": "SBD-0xoZP_ni"
      },
      "source": [
        "Bonus Task 2"
      ]
    },
    {
      "cell_type": "code",
      "source": [
        "#WRITE THE FUNCTION BY YOURSELF\n",
        "def levelSum(root):\n",
        "    if root == None:\n",
        "      return 0\n",
        "    lsum = levelSum(root.left)\n",
        "    rsum = levelSum(root.right)\n",
        "\n",
        "    if root.elem % 2 == 0:\n",
        "      return lsum + rsum + root.elem\n",
        "\n",
        "    else:\n",
        "      return lsum + rsum - root.elem\n",
        "\n",
        "#DRIVER CODE\n",
        "root = BTNode(1)\n",
        "n2 = BTNode(2)\n",
        "n3 = BTNode(3)\n",
        "n4 = BTNode(4)\n",
        "n5 = BTNode(5)\n",
        "n6 = BTNode(6)\n",
        "n7 = BTNode(7)\n",
        "n8 = BTNode(8)\n",
        "root.left = n2\n",
        "root.right = n3\n",
        "\n",
        "n2.left = n4\n",
        "n3.left = n5\n",
        "n3.right = n6\n",
        "\n",
        "n5.left = n7\n",
        "n5.right = n8\n",
        "\n",
        "print(levelSum(root))"
      ],
      "metadata": {
        "colab": {
          "base_uri": "https://localhost:8080/"
        },
        "id": "0uLWvK8AcCT6",
        "outputId": "150e9f57-7cfe-420a-ec11-dda506fac3f9"
      },
      "execution_count": null,
      "outputs": [
        {
          "output_type": "stream",
          "name": "stdout",
          "text": [
            "4\n"
          ]
        }
      ]
    }
  ],
  "metadata": {
    "colab": {
      "provenance": []
    },
    "kernelspec": {
      "display_name": "Python 3",
      "name": "python3"
    },
    "language_info": {
      "name": "python"
    }
  },
  "nbformat": 4,
  "nbformat_minor": 0
}